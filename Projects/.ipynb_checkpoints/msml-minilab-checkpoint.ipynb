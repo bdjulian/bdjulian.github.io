{
 "cells": [
  {
   "cell_type": "markdown",
   "metadata": {},
   "source": [
    "# Microsoft \"is it malware\" kaggle competition data\n",
    "\n",
    "Link to kaggle comp [here](https://www.kaggle.com/c/microsoft-malware-prediction/data)"
   ]
  },
  {
   "cell_type": "markdown",
   "metadata": {},
   "source": [
    "## The Data\n",
    "\n",
    "This is a dataset collected by Microsoft from microsoft devices. The target is whether or not malware was detected on the machine by any means.\n",
    "\n",
    "## The Business Problem\n",
    "\n",
    "People host their lives on their devices, and those people will hold a company accountable for everything they can even if it was objectively the customers fault. Enter virus protection! Windows has their own proprietary AV software _Windows Defender_ though they usually recommend additional AV software."
   ]
  },
  {
   "cell_type": "code",
   "execution_count": 1,
   "metadata": {},
   "outputs": [],
   "source": [
    "#import the goods\n",
    "\n",
    "import pandas as pd\n",
    "import matplotlib.pyplot as plt\n",
    "import seaborn as sns\n",
    "import sklearn\n",
    "import eli5\n",
    "import pdpbox\n",
    "import numpy\n",
    "from sklearn.compose import ColumnTransformer\n",
    "from sklearn.pipeline import Pipeline\n",
    "from sklearn.impute import SimpleImputer\n",
    "from sklearn.model_selection import train_test_split\n",
    "from sklearn.metrics import accuracy_score\n",
    "from sklearn.linear_model import LogisticRegression\n",
    "from sklearn.metrics import classification_report, confusion_matrix\n",
    "from sklearn import metrics\n",
    "from sklearn.ensemble import RandomForestClassifier\n",
    "from eli5.sklearn import PermutationImportance\n",
    "import sys\n",
    "import copy\n",
    "from pdpbox import pdp, get_dataset, info_plots\n",
    "from sklearn.tree import export_graphviz\n",
    "from sklearn import tree\n",
    "from sklearn.metrics import plot_roc_curve\n",
    "from sklearn import model_selection\n",
    "from sklearn.model_selection import StratifiedKFold\n",
    "from sklearn.compose import ColumnTransformer\n",
    "from sklearn.pipeline import Pipeline\n",
    "from sklearn.impute import SimpleImputer\n",
    "from sklearn.preprocessing import OneHotEncoder\n",
    "from tqdm import tqdm\n",
    "#if any packages fail to import (eli5 for example) try running !pip install \"package-name\" in its own cell block\n",
    "# e.x !pip install eli5\n",
    "\n",
    "#I reset this here because later we expand it to limitless and don't want to crash the system on repeat runs\n",
    "pd.set_option('display.max_rows', 10)"
   ]
  },
  {
   "cell_type": "code",
   "execution_count": 2,
   "metadata": {},
   "outputs": [],
   "source": [
    "#df_test = pd.read_csv('C:/Users/User/Desktop/msml-data/test.csv',nrows=100000)\n",
    "#df_test"
   ]
  },
  {
   "cell_type": "code",
   "execution_count": 3,
   "metadata": {
    "scrolled": true
   },
   "outputs": [],
   "source": [
    "#importing first 100000 rows\n",
    "df = pd.read_csv('C:/Users/User/Desktop/msml-data/train.csv',nrows=100000)"
   ]
  },
  {
   "cell_type": "code",
   "execution_count": 4,
   "metadata": {},
   "outputs": [],
   "source": [
    "df = df.drop(columns='MachineIdentifier')"
   ]
  },
  {
   "cell_type": "code",
   "execution_count": 5,
   "metadata": {
    "scrolled": true
   },
   "outputs": [],
   "source": [
    "#df = df.dropna()"
   ]
  },
  {
   "cell_type": "code",
   "execution_count": 6,
   "metadata": {
    "scrolled": false
   },
   "outputs": [
    {
     "data": {
      "text/plain": [
       "ProductName                                 object\n",
       "EngineVersion                               object\n",
       "AppVersion                                  object\n",
       "AvSigVersion                                object\n",
       "IsBeta                                       int64\n",
       "                                            ...   \n",
       "Census_IsPenCapable                          int64\n",
       "Census_IsAlwaysOnAlwaysConnectedCapable    float64\n",
       "Wdft_IsGamer                               float64\n",
       "Wdft_RegionIdentifier                      float64\n",
       "HasDetections                                int64\n",
       "Length: 82, dtype: object"
      ]
     },
     "execution_count": 6,
     "metadata": {},
     "output_type": "execute_result"
    }
   ],
   "source": [
    "df.dtypes"
   ]
  },
  {
   "cell_type": "code",
   "execution_count": 7,
   "metadata": {
    "scrolled": true
   },
   "outputs": [
    {
     "data": {
      "text/plain": [
       "ProductName                                   0\n",
       "EngineVersion                                 0\n",
       "AppVersion                                    0\n",
       "AvSigVersion                                  0\n",
       "IsBeta                                        0\n",
       "                                           ... \n",
       "Census_IsPenCapable                           0\n",
       "Census_IsAlwaysOnAlwaysConnectedCapable     843\n",
       "Wdft_IsGamer                               3415\n",
       "Wdft_RegionIdentifier                      3415\n",
       "HasDetections                                 0\n",
       "Length: 82, dtype: int64"
      ]
     },
     "execution_count": 7,
     "metadata": {},
     "output_type": "execute_result"
    }
   ],
   "source": [
    "df.isnull().sum()"
   ]
  },
  {
   "cell_type": "code",
   "execution_count": 8,
   "metadata": {},
   "outputs": [
    {
     "data": {
      "text/plain": [
       "(100000, 82)"
      ]
     },
     "execution_count": 8,
     "metadata": {},
     "output_type": "execute_result"
    }
   ],
   "source": [
    "df.shape"
   ]
  },
  {
   "cell_type": "code",
   "execution_count": 9,
   "metadata": {
    "scrolled": true
   },
   "outputs": [],
   "source": [
    "def thresh_col_remover(dataframe):\n",
    "    '''Here we are removing largely null columns while also removing columns\n",
    "    that contain a majority of one class cuz science'''\n",
    "    #Boutta go ham on preprocessing, establishing variables to use for the goods\n",
    "    #here we are saving the df size for use\n",
    "    df_size = len(dataframe)\n",
    "    #here I arbitrarily decide that if 80% of a column is NA it gets dropped for now\n",
    "    #as pirated from kaggle\n",
    "    na_cutoff = .8\n",
    "    #feature cutoff as well, if there is a dominant feature it gets yoinked\n",
    "    unbalanced_feature_cutoff = .95\n",
    "    \n",
    "    usable_features = list(dataframe.columns)\n",
    "   \n",
    "    for col in dataframe:\n",
    "        \n",
    "        current_col_distro = dataframe[col].value_counts(normalize=True, dropna=False).values[0]\n",
    "        current_col_nulls = dataframe[col].isnull().sum() / df_size\n",
    "        \n",
    "        if current_col_nulls > na_cutoff:\n",
    "        \n",
    "            usable_features.remove(col)\n",
    "        \n",
    "        elif current_col_distro > unbalanced_feature_cutoff:\n",
    "            \n",
    "            usable_features.remove(col)\n",
    "    \n",
    "    return dataframe[usable_features], usable_features\n",
    "ndf, usable_features = thresh_col_remover(df)"
   ]
  },
  {
   "cell_type": "code",
   "execution_count": 10,
   "metadata": {
    "scrolled": false
   },
   "outputs": [],
   "source": [
    "current_columns = df.columns.to_list()\n",
    "#so we have usable columns and current columns. What is current - usable? \n",
    "# we lose the ones we want. but then we have a set of what?\n",
    "#the ones we DONT want?\n",
    "drop_these = list(set(current_columns)-set(usable_features))\n",
    "#print(usable_features, '\\n\\n', drop_these)\n",
    "#this looks about right for now"
   ]
  },
  {
   "cell_type": "code",
   "execution_count": 11,
   "metadata": {},
   "outputs": [],
   "source": [
    "#I need to do this to have my new datframe (ndf) to have something to map to\n",
    "df = df.drop(columns=drop_these)"
   ]
  },
  {
   "cell_type": "code",
   "execution_count": 12,
   "metadata": {
    "scrolled": true
   },
   "outputs": [],
   "source": [
    "#cols_removed = list(set(df.columns)-set(ndf.columns))\n",
    "#cols_removed"
   ]
  },
  {
   "cell_type": "code",
   "execution_count": 13,
   "metadata": {
    "scrolled": true
   },
   "outputs": [
    {
     "data": {
      "text/html": [
       "<div>\n",
       "<style scoped>\n",
       "    .dataframe tbody tr th:only-of-type {\n",
       "        vertical-align: middle;\n",
       "    }\n",
       "\n",
       "    .dataframe tbody tr th {\n",
       "        vertical-align: top;\n",
       "    }\n",
       "\n",
       "    .dataframe thead th {\n",
       "        text-align: right;\n",
       "    }\n",
       "</style>\n",
       "<table border=\"1\" class=\"dataframe\">\n",
       "  <thead>\n",
       "    <tr style=\"text-align: right;\">\n",
       "      <th></th>\n",
       "      <th>EngineVersion</th>\n",
       "      <th>AppVersion</th>\n",
       "      <th>AvSigVersion</th>\n",
       "      <th>AVProductStatesIdentifier</th>\n",
       "      <th>AVProductsInstalled</th>\n",
       "      <th>CountryIdentifier</th>\n",
       "      <th>CityIdentifier</th>\n",
       "      <th>OrganizationIdentifier</th>\n",
       "      <th>GeoNameIdentifier</th>\n",
       "      <th>LocaleEnglishNameIdentifier</th>\n",
       "      <th>...</th>\n",
       "      <th>Census_ThresholdOptIn</th>\n",
       "      <th>Census_FirmwareManufacturerIdentifier</th>\n",
       "      <th>Census_FirmwareVersionIdentifier</th>\n",
       "      <th>Census_IsSecureBootEnabled</th>\n",
       "      <th>Census_IsWIMBootEnabled</th>\n",
       "      <th>Census_IsTouchEnabled</th>\n",
       "      <th>Census_IsAlwaysOnAlwaysConnectedCapable</th>\n",
       "      <th>Wdft_IsGamer</th>\n",
       "      <th>Wdft_RegionIdentifier</th>\n",
       "      <th>HasDetections</th>\n",
       "    </tr>\n",
       "  </thead>\n",
       "  <tbody>\n",
       "    <tr>\n",
       "      <th>0</th>\n",
       "      <td>1.1.15100.1</td>\n",
       "      <td>4.18.1807.18075</td>\n",
       "      <td>1.273.1735.0</td>\n",
       "      <td>53447</td>\n",
       "      <td>1</td>\n",
       "      <td>29</td>\n",
       "      <td>128035</td>\n",
       "      <td>18</td>\n",
       "      <td>35</td>\n",
       "      <td>171</td>\n",
       "      <td>...</td>\n",
       "      <td>0</td>\n",
       "      <td>628</td>\n",
       "      <td>36144</td>\n",
       "      <td>0</td>\n",
       "      <td>0</td>\n",
       "      <td>0</td>\n",
       "      <td>0</td>\n",
       "      <td>0</td>\n",
       "      <td>10</td>\n",
       "      <td>0</td>\n",
       "    </tr>\n",
       "    <tr>\n",
       "      <th>1</th>\n",
       "      <td>1.1.14600.4</td>\n",
       "      <td>4.13.17134.1</td>\n",
       "      <td>1.263.48.0</td>\n",
       "      <td>53447</td>\n",
       "      <td>1</td>\n",
       "      <td>93</td>\n",
       "      <td>1482</td>\n",
       "      <td>18</td>\n",
       "      <td>119</td>\n",
       "      <td>64</td>\n",
       "      <td>...</td>\n",
       "      <td>0</td>\n",
       "      <td>628</td>\n",
       "      <td>57858</td>\n",
       "      <td>0</td>\n",
       "      <td>0</td>\n",
       "      <td>0</td>\n",
       "      <td>0</td>\n",
       "      <td>0</td>\n",
       "      <td>8</td>\n",
       "      <td>0</td>\n",
       "    </tr>\n",
       "    <tr>\n",
       "      <th>2</th>\n",
       "      <td>1.1.15100.1</td>\n",
       "      <td>4.18.1807.18075</td>\n",
       "      <td>1.273.1341.0</td>\n",
       "      <td>53447</td>\n",
       "      <td>1</td>\n",
       "      <td>86</td>\n",
       "      <td>153579</td>\n",
       "      <td>18</td>\n",
       "      <td>64</td>\n",
       "      <td>49</td>\n",
       "      <td>...</td>\n",
       "      <td>0</td>\n",
       "      <td>142</td>\n",
       "      <td>52682</td>\n",
       "      <td>0</td>\n",
       "      <td>0</td>\n",
       "      <td>0</td>\n",
       "      <td>0</td>\n",
       "      <td>0</td>\n",
       "      <td>3</td>\n",
       "      <td>0</td>\n",
       "    </tr>\n",
       "    <tr>\n",
       "      <th>3</th>\n",
       "      <td>1.1.15100.1</td>\n",
       "      <td>4.18.1807.18075</td>\n",
       "      <td>1.273.1527.0</td>\n",
       "      <td>53447</td>\n",
       "      <td>1</td>\n",
       "      <td>88</td>\n",
       "      <td>20710</td>\n",
       "      <td>27</td>\n",
       "      <td>117</td>\n",
       "      <td>115</td>\n",
       "      <td>...</td>\n",
       "      <td>0</td>\n",
       "      <td>355</td>\n",
       "      <td>20050</td>\n",
       "      <td>0</td>\n",
       "      <td>0</td>\n",
       "      <td>0</td>\n",
       "      <td>0</td>\n",
       "      <td>0</td>\n",
       "      <td>3</td>\n",
       "      <td>1</td>\n",
       "    </tr>\n",
       "    <tr>\n",
       "      <th>4</th>\n",
       "      <td>1.1.15100.1</td>\n",
       "      <td>4.18.1807.18075</td>\n",
       "      <td>1.273.1379.0</td>\n",
       "      <td>53447</td>\n",
       "      <td>1</td>\n",
       "      <td>18</td>\n",
       "      <td>37376</td>\n",
       "      <td>27</td>\n",
       "      <td>277</td>\n",
       "      <td>75</td>\n",
       "      <td>...</td>\n",
       "      <td>0</td>\n",
       "      <td>355</td>\n",
       "      <td>19844</td>\n",
       "      <td>0</td>\n",
       "      <td>0</td>\n",
       "      <td>0</td>\n",
       "      <td>0</td>\n",
       "      <td>0</td>\n",
       "      <td>1</td>\n",
       "      <td>1</td>\n",
       "    </tr>\n",
       "    <tr>\n",
       "      <th>...</th>\n",
       "      <td>...</td>\n",
       "      <td>...</td>\n",
       "      <td>...</td>\n",
       "      <td>...</td>\n",
       "      <td>...</td>\n",
       "      <td>...</td>\n",
       "      <td>...</td>\n",
       "      <td>...</td>\n",
       "      <td>...</td>\n",
       "      <td>...</td>\n",
       "      <td>...</td>\n",
       "      <td>...</td>\n",
       "      <td>...</td>\n",
       "      <td>...</td>\n",
       "      <td>...</td>\n",
       "      <td>...</td>\n",
       "      <td>...</td>\n",
       "      <td>...</td>\n",
       "      <td>...</td>\n",
       "      <td>...</td>\n",
       "      <td>...</td>\n",
       "    </tr>\n",
       "    <tr>\n",
       "      <th>99995</th>\n",
       "      <td>1.1.15200.1</td>\n",
       "      <td>4.8.10240.17443</td>\n",
       "      <td>1.275.193.0</td>\n",
       "      <td>42086</td>\n",
       "      <td>2</td>\n",
       "      <td>177</td>\n",
       "      <td>75608</td>\n",
       "      <td>27</td>\n",
       "      <td>251</td>\n",
       "      <td>239</td>\n",
       "      <td>...</td>\n",
       "      <td>0</td>\n",
       "      <td>556</td>\n",
       "      <td>12456</td>\n",
       "      <td>1</td>\n",
       "      <td>0</td>\n",
       "      <td>0</td>\n",
       "      <td>0</td>\n",
       "      <td>0</td>\n",
       "      <td>15</td>\n",
       "      <td>0</td>\n",
       "    </tr>\n",
       "    <tr>\n",
       "      <th>99996</th>\n",
       "      <td>1.1.15100.1</td>\n",
       "      <td>4.18.1806.18062</td>\n",
       "      <td>1.273.371.0</td>\n",
       "      <td>53447</td>\n",
       "      <td>1</td>\n",
       "      <td>206</td>\n",
       "      <td>69788</td>\n",
       "      <td>27</td>\n",
       "      <td>276</td>\n",
       "      <td>74</td>\n",
       "      <td>...</td>\n",
       "      <td>0</td>\n",
       "      <td>500</td>\n",
       "      <td>43238</td>\n",
       "      <td>0</td>\n",
       "      <td>0</td>\n",
       "      <td>0</td>\n",
       "      <td>0</td>\n",
       "      <td>0</td>\n",
       "      <td>11</td>\n",
       "      <td>1</td>\n",
       "    </tr>\n",
       "    <tr>\n",
       "      <th>99997</th>\n",
       "      <td>1.1.15200.1</td>\n",
       "      <td>4.18.1807.18075</td>\n",
       "      <td>1.275.1244.0</td>\n",
       "      <td>7945</td>\n",
       "      <td>2</td>\n",
       "      <td>93</td>\n",
       "      <td>36825</td>\n",
       "      <td>27</td>\n",
       "      <td>277</td>\n",
       "      <td>75</td>\n",
       "      <td>...</td>\n",
       "      <td>0</td>\n",
       "      <td>355</td>\n",
       "      <td>19844</td>\n",
       "      <td>0</td>\n",
       "      <td>0</td>\n",
       "      <td>0</td>\n",
       "      <td>0</td>\n",
       "      <td>0</td>\n",
       "      <td>8</td>\n",
       "      <td>0</td>\n",
       "    </tr>\n",
       "    <tr>\n",
       "      <th>99998</th>\n",
       "      <td>1.1.15200.1</td>\n",
       "      <td>4.18.1807.18075</td>\n",
       "      <td>1.275.1362.0</td>\n",
       "      <td>53447</td>\n",
       "      <td>1</td>\n",
       "      <td>29</td>\n",
       "      <td>157243</td>\n",
       "      <td>18</td>\n",
       "      <td>35</td>\n",
       "      <td>171</td>\n",
       "      <td>...</td>\n",
       "      <td>0</td>\n",
       "      <td>807</td>\n",
       "      <td>52295</td>\n",
       "      <td>1</td>\n",
       "      <td>0</td>\n",
       "      <td>0</td>\n",
       "      <td>0</td>\n",
       "      <td>0</td>\n",
       "      <td>10</td>\n",
       "      <td>0</td>\n",
       "    </tr>\n",
       "    <tr>\n",
       "      <th>99999</th>\n",
       "      <td>1.1.15200.1</td>\n",
       "      <td>4.10.14393.1613</td>\n",
       "      <td>1.275.46.0</td>\n",
       "      <td>53447</td>\n",
       "      <td>1</td>\n",
       "      <td>50</td>\n",
       "      <td>105713</td>\n",
       "      <td>27</td>\n",
       "      <td>68</td>\n",
       "      <td>51</td>\n",
       "      <td>...</td>\n",
       "      <td>0</td>\n",
       "      <td>644</td>\n",
       "      <td>31835</td>\n",
       "      <td>1</td>\n",
       "      <td>0</td>\n",
       "      <td>0</td>\n",
       "      <td>0</td>\n",
       "      <td>0</td>\n",
       "      <td>3</td>\n",
       "      <td>0</td>\n",
       "    </tr>\n",
       "  </tbody>\n",
       "</table>\n",
       "<p>100000 rows × 62 columns</p>\n",
       "</div>"
      ],
      "text/plain": [
       "      EngineVersion       AppVersion  AvSigVersion AVProductStatesIdentifier  \\\n",
       "0       1.1.15100.1  4.18.1807.18075  1.273.1735.0                     53447   \n",
       "1       1.1.14600.4     4.13.17134.1    1.263.48.0                     53447   \n",
       "2       1.1.15100.1  4.18.1807.18075  1.273.1341.0                     53447   \n",
       "3       1.1.15100.1  4.18.1807.18075  1.273.1527.0                     53447   \n",
       "4       1.1.15100.1  4.18.1807.18075  1.273.1379.0                     53447   \n",
       "...             ...              ...           ...                       ...   \n",
       "99995   1.1.15200.1  4.8.10240.17443   1.275.193.0                     42086   \n",
       "99996   1.1.15100.1  4.18.1806.18062   1.273.371.0                     53447   \n",
       "99997   1.1.15200.1  4.18.1807.18075  1.275.1244.0                      7945   \n",
       "99998   1.1.15200.1  4.18.1807.18075  1.275.1362.0                     53447   \n",
       "99999   1.1.15200.1  4.10.14393.1613    1.275.46.0                     53447   \n",
       "\n",
       "      AVProductsInstalled CountryIdentifier CityIdentifier  \\\n",
       "0                       1                29         128035   \n",
       "1                       1                93           1482   \n",
       "2                       1                86         153579   \n",
       "3                       1                88          20710   \n",
       "4                       1                18          37376   \n",
       "...                   ...               ...            ...   \n",
       "99995                   2               177          75608   \n",
       "99996                   1               206          69788   \n",
       "99997                   2                93          36825   \n",
       "99998                   1                29         157243   \n",
       "99999                   1                50         105713   \n",
       "\n",
       "      OrganizationIdentifier GeoNameIdentifier LocaleEnglishNameIdentifier  \\\n",
       "0                         18                35                         171   \n",
       "1                         18               119                          64   \n",
       "2                         18                64                          49   \n",
       "3                         27               117                         115   \n",
       "4                         27               277                          75   \n",
       "...                      ...               ...                         ...   \n",
       "99995                     27               251                         239   \n",
       "99996                     27               276                          74   \n",
       "99997                     27               277                          75   \n",
       "99998                     18                35                         171   \n",
       "99999                     27                68                          51   \n",
       "\n",
       "       ... Census_ThresholdOptIn Census_FirmwareManufacturerIdentifier  \\\n",
       "0      ...                     0                                   628   \n",
       "1      ...                     0                                   628   \n",
       "2      ...                     0                                   142   \n",
       "3      ...                     0                                   355   \n",
       "4      ...                     0                                   355   \n",
       "...    ...                   ...                                   ...   \n",
       "99995  ...                     0                                   556   \n",
       "99996  ...                     0                                   500   \n",
       "99997  ...                     0                                   355   \n",
       "99998  ...                     0                                   807   \n",
       "99999  ...                     0                                   644   \n",
       "\n",
       "      Census_FirmwareVersionIdentifier Census_IsSecureBootEnabled  \\\n",
       "0                                36144                          0   \n",
       "1                                57858                          0   \n",
       "2                                52682                          0   \n",
       "3                                20050                          0   \n",
       "4                                19844                          0   \n",
       "...                                ...                        ...   \n",
       "99995                            12456                          1   \n",
       "99996                            43238                          0   \n",
       "99997                            19844                          0   \n",
       "99998                            52295                          1   \n",
       "99999                            31835                          1   \n",
       "\n",
       "      Census_IsWIMBootEnabled Census_IsTouchEnabled  \\\n",
       "0                           0                     0   \n",
       "1                           0                     0   \n",
       "2                           0                     0   \n",
       "3                           0                     0   \n",
       "4                           0                     0   \n",
       "...                       ...                   ...   \n",
       "99995                       0                     0   \n",
       "99996                       0                     0   \n",
       "99997                       0                     0   \n",
       "99998                       0                     0   \n",
       "99999                       0                     0   \n",
       "\n",
       "      Census_IsAlwaysOnAlwaysConnectedCapable Wdft_IsGamer  \\\n",
       "0                                           0            0   \n",
       "1                                           0            0   \n",
       "2                                           0            0   \n",
       "3                                           0            0   \n",
       "4                                           0            0   \n",
       "...                                       ...          ...   \n",
       "99995                                       0            0   \n",
       "99996                                       0            0   \n",
       "99997                                       0            0   \n",
       "99998                                       0            0   \n",
       "99999                                       0            0   \n",
       "\n",
       "      Wdft_RegionIdentifier HasDetections  \n",
       "0                        10             0  \n",
       "1                         8             0  \n",
       "2                         3             0  \n",
       "3                         3             1  \n",
       "4                         1             1  \n",
       "...                     ...           ...  \n",
       "99995                    15             0  \n",
       "99996                    11             1  \n",
       "99997                     8             0  \n",
       "99998                    10             0  \n",
       "99999                     3             0  \n",
       "\n",
       "[100000 rows x 62 columns]"
      ]
     },
     "execution_count": 13,
     "metadata": {},
     "output_type": "execute_result"
    }
   ],
   "source": [
    "#copying some jazz I seen on the internets\n",
    "#filling NA values with the statistical mode\n",
    "def mode_imputer(dataframe):\n",
    "    mode_impute = SimpleImputer(strategy=\"most_frequent\")\n",
    "    dataframe = pd.DataFrame(mode_impute.fit_transform(dataframe))\n",
    "    return dataframe\n",
    "ndf = mode_imputer(ndf)\n",
    "ndf.columns = usable_features\n",
    "ndf"
   ]
  },
  {
   "cell_type": "code",
   "execution_count": 14,
   "metadata": {},
   "outputs": [
    {
     "data": {
      "text/plain": [
       "EngineVersion                              object\n",
       "AppVersion                                 object\n",
       "AvSigVersion                               object\n",
       "AVProductStatesIdentifier                  object\n",
       "AVProductsInstalled                        object\n",
       "                                            ...  \n",
       "Census_IsTouchEnabled                      object\n",
       "Census_IsAlwaysOnAlwaysConnectedCapable    object\n",
       "Wdft_IsGamer                               object\n",
       "Wdft_RegionIdentifier                      object\n",
       "HasDetections                              object\n",
       "Length: 62, dtype: object"
      ]
     },
     "execution_count": 14,
     "metadata": {},
     "output_type": "execute_result"
    }
   ],
   "source": [
    "#here our datatypes are still cursed because of something numpy or arrays do under the hood\n",
    "ndf.dtypes"
   ]
  },
  {
   "cell_type": "markdown",
   "metadata": {},
   "source": [
    "# Feature engineering\n",
    "\n",
    "## Cardinality\n",
    "\n",
    "[Why I googled dataset cardinality](https://www.kaggle.com/fabiendaniel/detecting-malwares-with-lgbm) Kernel of fabiendaniel who did lgbm forward feature engineering\n",
    "\n",
    "[An easy to digest explanation of cardinality using M&M's](https://blog.timescale.com/blog/what-is-high-cardinality-how-do-time-series-databases-influxdb-timescaledb-compare/)\n",
    "\n",
    "If you are familiar with relational databases the concept of cardinality has a lot of overlap, things like one to many and one to one. In this example, about data-_sets_ with high cardinality it is simply a column with many unique values. And that can be dealt with through frequency encoding, _encode each unique value with its overall summed frequency in the dataset_."
   ]
  },
  {
   "cell_type": "markdown",
   "metadata": {},
   "source": [
    "In order to begin determining if we need to do this, we should check unique values of our categorical columns to see if we have high cardinality. Hopefully the sample of rows I chose can be considered representative of the set."
   ]
  },
  {
   "cell_type": "code",
   "execution_count": 15,
   "metadata": {},
   "outputs": [],
   "source": [
    "#here is one solution to the datatypes failing to copy another is to \n",
    "#copy the values as array and set the columns =\n",
    "# ndf = pd.Dataframe(df.values.tolist(),columns = df.columns)\n",
    "ndf = df.astype(df.dtypes.to_dict())"
   ]
  },
  {
   "cell_type": "code",
   "execution_count": 16,
   "metadata": {
    "scrolled": true
   },
   "outputs": [
    {
     "data": {
      "text/plain": [
       "{'EngineVersion': dtype('O'),\n",
       " 'AppVersion': dtype('O'),\n",
       " 'AvSigVersion': dtype('O'),\n",
       " 'AVProductStatesIdentifier': dtype('float64'),\n",
       " 'AVProductsInstalled': dtype('float64'),\n",
       " 'CountryIdentifier': dtype('int64'),\n",
       " 'CityIdentifier': dtype('float64'),\n",
       " 'OrganizationIdentifier': dtype('float64'),\n",
       " 'GeoNameIdentifier': dtype('float64'),\n",
       " 'LocaleEnglishNameIdentifier': dtype('int64'),\n",
       " 'Processor': dtype('O'),\n",
       " 'OsBuild': dtype('int64'),\n",
       " 'OsSuite': dtype('int64'),\n",
       " 'OsPlatformSubRelease': dtype('O'),\n",
       " 'OsBuildLab': dtype('O'),\n",
       " 'SkuEdition': dtype('O'),\n",
       " 'IsProtected': dtype('float64'),\n",
       " 'SMode': dtype('float64'),\n",
       " 'IeVerIdentifier': dtype('float64'),\n",
       " 'SmartScreen': dtype('O'),\n",
       " 'Census_MDC2FormFactor': dtype('O'),\n",
       " 'Census_OEMNameIdentifier': dtype('float64'),\n",
       " 'Census_OEMModelIdentifier': dtype('float64'),\n",
       " 'Census_ProcessorCoreCount': dtype('float64'),\n",
       " 'Census_ProcessorManufacturerIdentifier': dtype('float64'),\n",
       " 'Census_ProcessorModelIdentifier': dtype('float64'),\n",
       " 'Census_PrimaryDiskTotalCapacity': dtype('float64'),\n",
       " 'Census_PrimaryDiskTypeName': dtype('O'),\n",
       " 'Census_SystemVolumeTotalCapacity': dtype('float64'),\n",
       " 'Census_HasOpticalDiskDrive': dtype('int64'),\n",
       " 'Census_TotalPhysicalRAM': dtype('float64'),\n",
       " 'Census_ChassisTypeName': dtype('O'),\n",
       " 'Census_InternalPrimaryDiagonalDisplaySizeInInches': dtype('float64'),\n",
       " 'Census_InternalPrimaryDisplayResolutionHorizontal': dtype('float64'),\n",
       " 'Census_InternalPrimaryDisplayResolutionVertical': dtype('float64'),\n",
       " 'Census_PowerPlatformRoleName': dtype('O'),\n",
       " 'Census_InternalBatteryType': dtype('O'),\n",
       " 'Census_InternalBatteryNumberOfCharges': dtype('float64'),\n",
       " 'Census_OSVersion': dtype('O'),\n",
       " 'Census_OSArchitecture': dtype('O'),\n",
       " 'Census_OSBranch': dtype('O'),\n",
       " 'Census_OSBuildNumber': dtype('int64'),\n",
       " 'Census_OSBuildRevision': dtype('int64'),\n",
       " 'Census_OSEdition': dtype('O'),\n",
       " 'Census_OSSkuName': dtype('O'),\n",
       " 'Census_OSInstallTypeName': dtype('O'),\n",
       " 'Census_OSInstallLanguageIdentifier': dtype('float64'),\n",
       " 'Census_OSUILocaleIdentifier': dtype('int64'),\n",
       " 'Census_OSWUAutoUpdateOptionsName': dtype('O'),\n",
       " 'Census_GenuineStateName': dtype('O'),\n",
       " 'Census_ActivationChannel': dtype('O'),\n",
       " 'Census_FlightRing': dtype('O'),\n",
       " 'Census_ThresholdOptIn': dtype('float64'),\n",
       " 'Census_FirmwareManufacturerIdentifier': dtype('float64'),\n",
       " 'Census_FirmwareVersionIdentifier': dtype('float64'),\n",
       " 'Census_IsSecureBootEnabled': dtype('int64'),\n",
       " 'Census_IsWIMBootEnabled': dtype('float64'),\n",
       " 'Census_IsTouchEnabled': dtype('int64'),\n",
       " 'Census_IsAlwaysOnAlwaysConnectedCapable': dtype('float64'),\n",
       " 'Wdft_IsGamer': dtype('float64'),\n",
       " 'Wdft_RegionIdentifier': dtype('float64'),\n",
       " 'HasDetections': dtype('int64')}"
      ]
     },
     "execution_count": 16,
     "metadata": {},
     "output_type": "execute_result"
    }
   ],
   "source": [
    "df.dtypes.to_dict()"
   ]
  },
  {
   "cell_type": "code",
   "execution_count": 17,
   "metadata": {
    "scrolled": false
   },
   "outputs": [],
   "source": [
    "#experiencing a problem, I have lost my datatypes, probably happened in \n",
    "#function thresh_col_remover when I sent new columns to a dataframe?\n",
    "typesDict = ndf.dtypes.to_dict()"
   ]
  },
  {
   "cell_type": "code",
   "execution_count": 18,
   "metadata": {
    "scrolled": false
   },
   "outputs": [
    {
     "name": "stdout",
     "output_type": "stream",
     "text": [
      "['AVProductStatesIdentifier', 'AVProductsInstalled', 'CountryIdentifier', 'CityIdentifier', 'OrganizationIdentifier', 'GeoNameIdentifier', 'LocaleEnglishNameIdentifier', 'OsBuild', 'OsSuite', 'IsProtected', 'SMode', 'IeVerIdentifier', 'Census_OEMNameIdentifier', 'Census_OEMModelIdentifier', 'Census_ProcessorCoreCount', 'Census_ProcessorManufacturerIdentifier', 'Census_ProcessorModelIdentifier', 'Census_PrimaryDiskTotalCapacity', 'Census_SystemVolumeTotalCapacity', 'Census_HasOpticalDiskDrive', 'Census_TotalPhysicalRAM', 'Census_InternalPrimaryDiagonalDisplaySizeInInches', 'Census_InternalPrimaryDisplayResolutionHorizontal', 'Census_InternalPrimaryDisplayResolutionVertical', 'Census_InternalBatteryNumberOfCharges', 'Census_OSBuildNumber', 'Census_OSBuildRevision', 'Census_OSInstallLanguageIdentifier', 'Census_OSUILocaleIdentifier', 'Census_ThresholdOptIn', 'Census_FirmwareManufacturerIdentifier', 'Census_FirmwareVersionIdentifier', 'Census_IsSecureBootEnabled', 'Census_IsWIMBootEnabled', 'Census_IsTouchEnabled', 'Census_IsAlwaysOnAlwaysConnectedCapable', 'Wdft_IsGamer', 'Wdft_RegionIdentifier', 'HasDetections'] \n",
      "\n",
      " ['EngineVersion', 'AppVersion', 'AvSigVersion', 'Processor', 'OsPlatformSubRelease', 'OsBuildLab', 'SkuEdition', 'SmartScreen', 'Census_MDC2FormFactor', 'Census_PrimaryDiskTypeName', 'Census_ChassisTypeName', 'Census_PowerPlatformRoleName', 'Census_InternalBatteryType', 'Census_OSVersion', 'Census_OSArchitecture', 'Census_OSBranch', 'Census_OSEdition', 'Census_OSSkuName', 'Census_OSInstallTypeName', 'Census_OSWUAutoUpdateOptionsName', 'Census_GenuineStateName', 'Census_ActivationChannel', 'Census_FlightRing']\n"
     ]
    }
   ],
   "source": [
    "#mildly copied from fabiendaniel\n",
    "#grabbing numerical columns hopefully\n",
    "type_numeric = ['int8', 'int16', 'int32', 'int64', 'float16', 'float32', 'float64']\n",
    "\n",
    "#can create iterable (list) here using this loop notation\n",
    "numerical_columns = [c for c,v in typesDict.items() if v in type_numeric]\n",
    "categorical_columns = [c for c,v in typesDict.items() if v not in type_numeric]\n",
    "print(numerical_columns, '\\n\\n', categorical_columns)"
   ]
  },
  {
   "cell_type": "code",
   "execution_count": 19,
   "metadata": {
    "scrolled": true
   },
   "outputs": [
    {
     "name": "stdout",
     "output_type": "stream",
     "text": [
      "EngineVersion 37\n",
      "AppVersion 59\n",
      "AvSigVersion 247\n",
      "Processor 3\n",
      "OsPlatformSubRelease 9\n",
      "OsBuildLab 107\n",
      "SkuEdition 8\n",
      "SmartScreen 11\n",
      "Census_MDC2FormFactor 12\n",
      "Census_PrimaryDiskTypeName 4\n",
      "Census_ChassisTypeName 23\n",
      "Census_PowerPlatformRoleName 9\n",
      "Census_InternalBatteryType 16\n",
      "Census_OSVersion 139\n",
      "Census_OSArchitecture 3\n",
      "Census_OSBranch 14\n",
      "Census_OSEdition 18\n",
      "Census_OSSkuName 16\n",
      "Census_OSInstallTypeName 9\n",
      "Census_OSWUAutoUpdateOptionsName 6\n",
      "Census_GenuineStateName 4\n",
      "Census_ActivationChannel 6\n",
      "Census_FlightRing 6\n"
     ]
    }
   ],
   "source": [
    "#observing amount of unique values per categorical column, that cardinality tho\n",
    "#comparing these results of my first nrows to the other kernels this is mildly unrepresentative but it's just an example\n",
    "#I will be frequency encoding the columns with high cardinality (unique values) per linked kernel by fabienDaniel\n",
    "#https://www.kaggle.com/fabiendaniel/detecting-malwares-with-lgbm\n",
    "for col in categorical_columns:\n",
    "    print(col, len(ndf[col].value_counts().unique()))"
   ]
  },
  {
   "cell_type": "code",
   "execution_count": 20,
   "metadata": {},
   "outputs": [],
   "source": [
    "frequency_encoded_variables = [\n",
    "    'Census_OEMModelIdentifier',\n",
    "    'CityIdentifier',\n",
    "    'Census_FirmwareVersionIdentifier',\n",
    "    'AvSigVersion',\n",
    "    'Census_ProcessorModelIdentifier',\n",
    "    'Census_OEMNameIdentifier',\n",
    "    'DefaultBrowsersIdentifier'\n",
    "]"
   ]
  },
  {
   "cell_type": "code",
   "execution_count": 21,
   "metadata": {},
   "outputs": [
    {
     "data": {
      "text/plain": [
       "EngineVersion                               object\n",
       "AppVersion                                  object\n",
       "AvSigVersion                                object\n",
       "AVProductStatesIdentifier                  float64\n",
       "AVProductsInstalled                        float64\n",
       "                                            ...   \n",
       "Census_IsTouchEnabled                        int64\n",
       "Census_IsAlwaysOnAlwaysConnectedCapable    float64\n",
       "Wdft_IsGamer                               float64\n",
       "Wdft_RegionIdentifier                      float64\n",
       "HasDetections                                int64\n",
       "Length: 62, dtype: object"
      ]
     },
     "execution_count": 21,
     "metadata": {},
     "output_type": "execute_result"
    }
   ],
   "source": [
    "#here I am just replacing ndf new data frame with train for readability\n",
    "train = ndf\n",
    "train.dtypes"
   ]
  },
  {
   "cell_type": "code",
   "execution_count": null,
   "metadata": {},
   "outputs": [],
   "source": []
  },
  {
   "cell_type": "code",
   "execution_count": 22,
   "metadata": {},
   "outputs": [],
   "source": [
    "y = ndf['HasDetections']\n",
    "X = ndf.drop(['HasDetections'], axis=1)"
   ]
  },
  {
   "cell_type": "code",
   "execution_count": 23,
   "metadata": {
    "scrolled": true
   },
   "outputs": [],
   "source": [
    "#skf.get_n_splits(X,y)"
   ]
  },
  {
   "cell_type": "code",
   "execution_count": 24,
   "metadata": {},
   "outputs": [],
   "source": [
    "X_train, X_valid, y_train, y_valid = train_test_split(X, y, test_size=0.30, random_state=1)"
   ]
  },
  {
   "cell_type": "code",
   "execution_count": null,
   "metadata": {},
   "outputs": [],
   "source": []
  }
 ],
 "metadata": {
  "kernelspec": {
   "display_name": "Python 3",
   "language": "python",
   "name": "python3"
  },
  "language_info": {
   "codemirror_mode": {
    "name": "ipython",
    "version": 3
   },
   "file_extension": ".py",
   "mimetype": "text/x-python",
   "name": "python",
   "nbconvert_exporter": "python",
   "pygments_lexer": "ipython3",
   "version": "3.8.5"
  }
 },
 "nbformat": 4,
 "nbformat_minor": 4
}
